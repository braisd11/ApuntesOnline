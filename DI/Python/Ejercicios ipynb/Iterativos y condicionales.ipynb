{
 "cells": [
  {
   "cell_type": "markdown",
   "id": "05a69bb1-a9c6-465a-908f-1cc7771c4641",
   "metadata": {},
   "source": [
    "## <b>Bloque 2 de ejercicios Python. Condicionales e iterativos.</b>"
   ]
  },
  {
   "cell_type": "raw",
   "id": "4ca71cd8-5822-41ca-b5ce-c44f6fa5c5c9",
   "metadata": {},
   "source": [
    "A conxetura de Collatz indica que calquera\n",
    "número natural pode transformarse en 1\n",
    "aplicando os pasos seguintes: si é par, dividir por\n",
    "2, se é impar multiplicar por 3 e sumarlle 1.\n",
    "Codifica un programa que pedindo un número\n",
    "mostre toda a sucesión de números resultantes\n",
    "ata convertilo en 1."
   ]
  },
  {
   "cell_type": "code",
   "execution_count": 2,
   "id": "83181dba-2995-410d-b1e7-989ff4c0ad0e",
   "metadata": {
    "tags": []
   },
   "outputs": [
    {
     "name": "stdin",
     "output_type": "stream",
     "text": [
      "Inserta un numero enteiro:  9\n"
     ]
    },
    {
     "name": "stdout",
     "output_type": "stream",
     "text": [
      "28 14 7 22 11 34 17 52 26 13 40 20 10 5 16 8 4 2 1 "
     ]
    }
   ],
   "source": [
    "num=-1;\n",
    "\n",
    "while num <=0:\n",
    "    num =int(input(\"Inserta un numero enteiro: \"))\n",
    "\n",
    "while num!=1:\n",
    "    if (num%2)==0:\n",
    "        num/=2\n",
    "        \n",
    "    else:\n",
    "        num=(num*3)+1\n",
    "        \n",
    "    print(int(num),end=\" \")"
   ]
  },
  {
   "cell_type": "markdown",
   "id": "aa0fd5f7-9322-46ce-bd66-8b90af3d6966",
   "metadata": {},
   "source": [
    "---"
   ]
  },
  {
   "cell_type": "raw",
   "id": "82a21734-aa08-4661-93ba-de04de40f412",
   "metadata": {},
   "source": [
    "Mastermind é un xogo que consiste en adiviñar un número.\n",
    "Codifica un programa que xenere un número entero\n",
    "aleatorio entre 1 e 100. A continuación iranos pedindo que\n",
    "adiviñemos o número. A axuda do programa será que si\n",
    "erramos diranos que o número que indicamos é maior ou\n",
    "menor que o que número aleatorio. Deberás incluir o\n",
    "número de intentos ao final da execución do programa.\n",
    "Ademáis, propoñer o programa para dous xogadores, e\n",
    "quen é o vencedor."
   ]
  },
  {
   "cell_type": "code",
   "execution_count": 3,
   "id": "60ab9879-22e1-481d-b7ed-7065d0b5cf87",
   "metadata": {
    "tags": []
   },
   "outputs": [
    {
     "name": "stdin",
     "output_type": "stream",
     "text": [
      "Proba con un número entre o 1 e o 100: 50\n"
     ]
    },
    {
     "name": "stdout",
     "output_type": "stream",
     "text": [
      "O número buscado é menor.\n"
     ]
    },
    {
     "name": "stdin",
     "output_type": "stream",
     "text": [
      "Proba con un número entre o 1 e o 100: 30\n"
     ]
    },
    {
     "name": "stdout",
     "output_type": "stream",
     "text": [
      "O número buscado é menor.\n"
     ]
    },
    {
     "name": "stdin",
     "output_type": "stream",
     "text": [
      "Proba con un número entre o 1 e o 100: 20\n"
     ]
    },
    {
     "name": "stdout",
     "output_type": "stream",
     "text": [
      "O número buscado é menor.\n"
     ]
    },
    {
     "name": "stdin",
     "output_type": "stream",
     "text": [
      "Proba con un número entre o 1 e o 100: 10\n"
     ]
    },
    {
     "name": "stdout",
     "output_type": "stream",
     "text": [
      "Correcto. Tardaches 3 intentos en acertar.\n"
     ]
    },
    {
     "name": "stdin",
     "output_type": "stream",
     "text": [
      "Proba con un número entre o 1 e o 100: 50\n"
     ]
    },
    {
     "name": "stdout",
     "output_type": "stream",
     "text": [
      "O número buscado é maior.\n"
     ]
    },
    {
     "name": "stdin",
     "output_type": "stream",
     "text": [
      "Proba con un número entre o 1 e o 100: 70\n"
     ]
    },
    {
     "name": "stdout",
     "output_type": "stream",
     "text": [
      "O número buscado é maior.\n"
     ]
    },
    {
     "name": "stdin",
     "output_type": "stream",
     "text": [
      "Proba con un número entre o 1 e o 100: 80\n"
     ]
    },
    {
     "name": "stdout",
     "output_type": "stream",
     "text": [
      "O número buscado é maior.\n"
     ]
    },
    {
     "name": "stdin",
     "output_type": "stream",
     "text": [
      "Proba con un número entre o 1 e o 100: 90\n"
     ]
    },
    {
     "name": "stdout",
     "output_type": "stream",
     "text": [
      "Correcto. Tardaches 3 intentos en acertar.\n",
      "Empatástedes\n"
     ]
    }
   ],
   "source": [
    "import random\n",
    "\n",
    "num=random.randint(1,100)\n",
    "proba=-1\n",
    "intentos1=0\n",
    "intentos2=0\n",
    "\n",
    "while proba!=num:\n",
    "    proba=-1\n",
    "    while proba<1 or proba>100:\n",
    "        proba=int(input(\"Proba con un número entre o 1 e o 100:\"))\n",
    "\n",
    "    if proba>num:\n",
    "        print(\"O número buscado é menor.\")\n",
    "        intentos1+=1\n",
    "\n",
    "    elif proba<num:\n",
    "        print(\"O número buscado é maior.\")\n",
    "        intentos1+=1\n",
    "    if proba==num:\n",
    "        print(f\"Correcto. Tardaches {intentos1} intentos en acertar.\")\n",
    "\n",
    "\n",
    "num=random.randint(1,100)\n",
    "proba=-1\n",
    "while proba!=num:\n",
    "    proba=-1\n",
    "    while proba<1 or proba>100:\n",
    "        proba=int(input(\"Proba con un número entre o 1 e o 100:\"))\n",
    "\n",
    "    if proba>num:\n",
    "        print(\"O número buscado é menor.\")\n",
    "        intentos2+=1\n",
    "\n",
    "    elif proba<num:\n",
    "        print(\"O número buscado é maior.\")\n",
    "        intentos2+=1\n",
    "    if proba==num:\n",
    "        print(f\"Correcto. Tardaches {intentos2} intentos en acertar.\")\n",
    "\n",
    "if intentos1<intentos2:\n",
    "    print(\"Gañou o xogador 1.\")\n",
    "elif intentos2<intentos1:\n",
    "    print(\"Gañou o xogador 2.\")\n",
    "else:\n",
    "    print(\"Empatástedes\")"
   ]
  },
  {
   "cell_type": "markdown",
   "id": "2c83db1b-ec8f-4789-bb2e-690397492e9d",
   "metadata": {},
   "source": [
    "---"
   ]
  },
  {
   "cell_type": "markdown",
   "id": "3f011636-5bb4-4084-8809-443a68ea0fc7",
   "metadata": {},
   "source": [
    "Utilizando el algoritmo de Luhn determina si el número de\n",
    "un tarjeta de crédito es válido o no\n",
    "Algoritmo de Luhn.- Una tarjeta de crédito, o una tarjeta SIM, si suma de la reversa de los números pares x\n",
    "2 con la reversa de los números impares es un número acabado en 0. Ejemplo:\n",
    "- Número de ejemplo: 4 9 9 2 7 3 9 8 7 1 6\n",
    "- Se multiplica por 2 los dígitos que ocupan las posiciones pares empezando por el final:\n",
    " (1×2) = 2, (8×2) = 16, (3×2) = 6, (2×2) = 4, (9×2) = 18\n",
    "- Se suman los dígitos que ocupan las posiciones impares con los dígitos de los productos obtenidos:\n",
    "6 + (2) + 7 + (1+6) + 9 + (6) + 7 + (4) + 9 + (1+8) + 4 = 70.\n",
    "(1+6) es por la multiplicación de 8x2 y (1+8) es por la multiplicación de 9x2 del primer punto\n",
    "- Al ser 70, acabada en 0, es válido: 70 mod 10 = 0"
   ]
  },
  {
   "cell_type": "code",
   "execution_count": 5,
   "id": "22c44fe9-572c-4898-a679-1867808e6b33",
   "metadata": {
    "tags": []
   },
   "outputs": [
    {
     "name": "stdin",
     "output_type": "stream",
     "text": [
      "Numero de la tarjeta:  49927398716\n"
     ]
    },
    {
     "name": "stdout",
     "output_type": "stream",
     "text": [
      "49927398716\n",
      "61789372994\n",
      "Aplicando el algoritmo de Luhn da:  70\n",
      "El resultado acaba en 0, por lo tanto es correcto.\n"
     ]
    }
   ],
   "source": [
    "numero = input(\"Numero de la tarjeta: \")\n",
    "print(numero)\n",
    "numero_invertido = numero[::-1]\n",
    "print(numero_invertido)\n",
    "\n",
    "i=0\n",
    "resultado=0\n",
    "for i in range(len(numero)):\n",
    "    if i%2==0:\n",
    "        resultado+=int(numero_invertido[i])\n",
    "    else:\n",
    "        numpar = int(numero_invertido[i])*2\n",
    "        if numpar>9:\n",
    "            resultado+=numpar//10+numpar%10\n",
    "        else:\n",
    "            resultado+=numpar\n",
    "   \n",
    "\n",
    "print(\"Aplicando el algoritmo de Luhn da: \", resultado)\n",
    "if resultado%10==0:\n",
    "    print(\"El resultado acaba en 0, por lo tanto es correcto.\")\n",
    "else:\n",
    "    print(\"El resultado no acaba en 0, por lo tanto es incorrecto.\")"
   ]
  },
  {
   "cell_type": "markdown",
   "id": "0438f623-b40e-441a-a779-0e76403d19c9",
   "metadata": {},
   "source": [
    "---"
   ]
  },
  {
   "cell_type": "raw",
   "id": "c62dc589-81ca-4228-9788-88dcbbcae120",
   "metadata": {},
   "source": [
    "Codificar un programa que nos pida un valor de temperatura é unha\n",
    "escala, por exemplo, 273 grados en escala Kelvin e posteriormente\n",
    "transforme dita temperatura nas outras escalas coñecidas, neste caso\n",
    "sería en Fahrenheit e Graos centígrados Centigrados.\n",
    "As fórmulas necesarias son:\n",
    "K = 273,1 + ºC\n",
    "ºF = 1,4 · ºC + 32"
   ]
  },
  {
   "cell_type": "code",
   "execution_count": 1,
   "id": "bcb16ac9-1a9d-459e-8202-7e302cceeb5b",
   "metadata": {
    "tags": []
   },
   "outputs": [
    {
     "name": "stdin",
     "output_type": "stream",
     "text": [
      "Introduce o valor de temperatura:  0\n",
      "Introduce a escala elexida (Kelvin->1 || Fahrenheit->2 || Graos Centígrados->3):  3\n"
     ]
    },
    {
     "name": "stdout",
     "output_type": "stream",
     "text": [
      "Graos 0.00, Fahrenheit 32.00 e Kelvin 273.10\n"
     ]
    }
   ],
   "source": [
    "num=float(input(\"Introduce o valor de temperatura: \"))\n",
    "escala=-1\n",
    "\n",
    "\n",
    "escala=int(input(\"Introduce a escala elexida (Kelvin->1 || Fahrenheit->2 || Graos Centígrados->3): \"))\n",
    "\n",
    "    \n",
    "if escala==1:\n",
    "    graos=num-273.1\n",
    "    fahrenheit=1.4*graos+32\n",
    "    print(f\"Graos {graos:.2f}, Fahrenheit {fahrenheit:.2f} e Kelvin {num:.2f}\")\n",
    "elif escala==2:\n",
    "    graos=(num-32)/1.4\n",
    "    kelvin=273.1+graos\n",
    "    print(f\"Graos {graos:.2f}, Fahrenheit {num:.2f} e Kelvin {kelvin:.2f}\")\n",
    "else:\n",
    "    kelvin=273.1+num\n",
    "    fahrenheit=1.4*num+32\n",
    "    print(f\"Graos {num:.2f}, Fahrenheit {fahrenheit:.2f} e Kelvin {kelvin:.2f}\")"
   ]
  },
  {
   "cell_type": "markdown",
   "id": "8404530a-2ff2-48ca-9bb2-7d8075616e20",
   "metadata": {},
   "source": [
    "---"
   ]
  },
  {
   "cell_type": "raw",
   "id": "68680e55-5325-414e-8aa0-47dd9dc50420",
   "metadata": {},
   "source": [
    "Codifica un programa que simule unha partida ao 7 e medio coa\n",
    "baralla española entre dous xogadores. Para elo o programa\n",
    "sacara para cada xogador un número aleatorio entre 1 e 10 tendo\n",
    "en conta que o 8, 9 e 10 simularán a sota, cabalo e rei,\n",
    "respectivamente que no xogo do 7 e medio valen medio punto.\n",
    "Cada xogador pódese plantar cando queira e gañará o que máis\n",
    "se aproxime por debaixo ao 7 e medio.\n",
    "Por exemplo:\n",
    "O xogador A saca o 4 e 2 e a sota (8) ten 6 e medio e plántase.\n",
    "O xogador B saca o 4 e 5 e xa perde porque pasou de 7 e medio.\n",
    "Gaña o xogador A.\n",
    "Cada partida finalizada pregunta se queremos seguir ou deixar o\n",
    "xogo."
   ]
  },
  {
   "cell_type": "code",
   "execution_count": 2,
   "id": "93efabc5-2505-4bcf-9d9a-179e48e772a3",
   "metadata": {
    "tags": []
   },
   "outputs": [
    {
     "name": "stdout",
     "output_type": "stream",
     "text": [
      "Vai a xogar o xogador 1: \n"
     ]
    },
    {
     "name": "stdin",
     "output_type": "stream",
     "text": [
      "Queres seguir xogando? (Sí->1 || Non->Calquera outro número) 1\n"
     ]
    },
    {
     "name": "stdout",
     "output_type": "stream",
     "text": [
      "Tes 2 puntos\n"
     ]
    },
    {
     "name": "stdin",
     "output_type": "stream",
     "text": [
      "Queres seguir xogando? (Sí->1 || Non->Calquera outro número) 1\n"
     ]
    },
    {
     "name": "stdout",
     "output_type": "stream",
     "text": [
      "Tes 5 puntos\n"
     ]
    },
    {
     "name": "stdin",
     "output_type": "stream",
     "text": [
      "Queres seguir xogando? (Sí->1 || Non->Calquera outro número) 2\n"
     ]
    },
    {
     "name": "stdout",
     "output_type": "stream",
     "text": [
      "Plantácheste con 5 punto(s)\n",
      "Vai a xogar o xogador 2: \n"
     ]
    },
    {
     "name": "stdin",
     "output_type": "stream",
     "text": [
      "Queres seguir xogando? (Sí->1 || Non->Calquera outro número) 1\n"
     ]
    },
    {
     "name": "stdout",
     "output_type": "stream",
     "text": [
      "Tes 0.5 puntos\n"
     ]
    },
    {
     "name": "stdin",
     "output_type": "stream",
     "text": [
      "Queres seguir xogando? (Sí->1 || Non->Calquera outro número) 1\n"
     ]
    },
    {
     "name": "stdout",
     "output_type": "stream",
     "text": [
      "Tes 1.0 puntos\n"
     ]
    },
    {
     "name": "stdin",
     "output_type": "stream",
     "text": [
      "Queres seguir xogando? (Sí->1 || Non->Calquera outro número) 1\n"
     ]
    },
    {
     "name": "stdout",
     "output_type": "stream",
     "text": [
      "Tes 1.5 puntos\n"
     ]
    },
    {
     "name": "stdin",
     "output_type": "stream",
     "text": [
      "Queres seguir xogando? (Sí->1 || Non->Calquera outro número) 1\n"
     ]
    },
    {
     "name": "stdout",
     "output_type": "stream",
     "text": [
      "Tes 6.5 puntos\n"
     ]
    },
    {
     "name": "stdin",
     "output_type": "stream",
     "text": [
      "Queres seguir xogando? (Sí->1 || Non->Calquera outro número) 1\n"
     ]
    },
    {
     "name": "stdout",
     "output_type": "stream",
     "text": [
      "Tes 7.0 puntos\n"
     ]
    },
    {
     "name": "stdin",
     "output_type": "stream",
     "text": [
      "Queres seguir xogando? (Sí->1 || Non->Calquera outro número) 1\n"
     ]
    },
    {
     "name": "stdout",
     "output_type": "stream",
     "text": [
      "Tes 10.0 puntos\n",
      "Perdiches. Sumaches 10.0 puntos\n",
      "Gañou o xogador1.\n"
     ]
    }
   ],
   "source": [
    "import random\n",
    "num=0\n",
    "xogar=1\n",
    "puntos1=0\n",
    "puntos2=0\n",
    "\n",
    "print(\"Vai a xogar o xogador 1: \")\n",
    "while xogar==1 and puntos1<=7.5:\n",
    "    xogar=int(input(\"Queres seguir xogando? (Sí->1 || Non->Calquera outro número)\"))\n",
    "    if xogar==1:\n",
    "        num=random.randint(1,10)\n",
    "        if num==8 or num==9 or num==10:\n",
    "            puntos1+=0.5\n",
    "        else:\n",
    "            puntos1+=num\n",
    "        print(f\"Tes {puntos1} puntos\")\n",
    "    else:\n",
    "        print(f\"Plantácheste con {puntos1} punto(s)\")\n",
    "    if puntos1>7.5:\n",
    "        print(f\"Perdiches. Sumaches {puntos1} puntos\")\n",
    "        \n",
    "    \n",
    "num=0\n",
    "xogar=1\n",
    "print(\"Vai a xogar o xogador 2: \")\n",
    "while xogar==1 and puntos2<=7.5:\n",
    "    xogar=int(input(\"Queres seguir xogando? (Sí->1 || Non->Calquera outro número)\"))\n",
    "    if xogar==1:\n",
    "        num=random.randint(1,10)\n",
    "        if num==8 or num==9 or num==10:\n",
    "            puntos2+=0.5\n",
    "        else:\n",
    "            puntos2+=num\n",
    "        print(f\"Tes {puntos2} puntos\")\n",
    "    else:\n",
    "        print(f\"Plantácheste con {puntos2} punto(s)\")\n",
    "    if puntos2>7.5:\n",
    "        print(f\"Perdiches. Sumaches {puntos2} puntos\")\n",
    "        \n",
    "\n",
    "if puntos1>puntos2 and puntos1<7.5:\n",
    "    print(\"Gañou o xogador1.\")\n",
    "elif puntos2>puntos1 and puntos2<7.5:\n",
    "    print(\"Gañou o xogador2.\")\n",
    "elif puntos1<7.5 and puntos2>7.5:\n",
    "    print(\"Gañou o xogador1.\")\n",
    "elif puntos2<7.5 and puntos1>7.5:\n",
    "    print(\"Gañou o xogador2.\")\n",
    "else:\n",
    "    print(\"Non gañou ninguén.\")"
   ]
  },
  {
   "cell_type": "markdown",
   "id": "5694f409-3843-4441-a4ff-73ac449e2e02",
   "metadata": {},
   "source": [
    "---"
   ]
  },
  {
   "cell_type": "raw",
   "id": "a577636b-1eec-4230-b985-f3b629fc1c1a",
   "metadata": {},
   "source": [
    "Contador de vocales\n",
    "Escribe un programa que cuente cuántas vocales (mayúsculas y minúsculas)\n",
    "hay en una cadena de texto ingresada por el usuario."
   ]
  },
  {
   "cell_type": "code",
   "execution_count": 3,
   "id": "d6680e76-bd7c-4489-b098-135f25202399",
   "metadata": {
    "tags": []
   },
   "outputs": [
    {
     "name": "stdin",
     "output_type": "stream",
     "text": [
      "Introduce unha palabra:  Arqueado\n"
     ]
    },
    {
     "name": "stdout",
     "output_type": "stream",
     "text": [
      "A palabra ten 5 vogais.\n"
     ]
    }
   ],
   "source": [
    "palabra=input(\"Introduce unha palabra: \")\n",
    "cont=0\n",
    "\n",
    "for i,letra in enumerate(palabra.lower()):\n",
    "    if letra==\"a\" or letra==\"e\"or letra==\"i\"or letra==\"o\"or letra==\"u\":\n",
    "        cont=cont+1\n",
    "\n",
    "print(f\"A palabra ten {cont} vogais.\")"
   ]
  },
  {
   "cell_type": "markdown",
   "id": "8f10a586-2f64-48d0-9bab-d02ac27d69f0",
   "metadata": {},
   "source": [
    "---"
   ]
  },
  {
   "cell_type": "code",
   "execution_count": null,
   "id": "baaee4ae-4076-4263-a7b2-4c61c73bdcab",
   "metadata": {},
   "outputs": [],
   "source": []
  }
 ],
 "metadata": {
  "kernelspec": {
   "display_name": "Python 3 (ipykernel)",
   "language": "python",
   "name": "python3"
  },
  "language_info": {
   "codemirror_mode": {
    "name": "ipython",
    "version": 3
   },
   "file_extension": ".py",
   "mimetype": "text/x-python",
   "name": "python",
   "nbconvert_exporter": "python",
   "pygments_lexer": "ipython3",
   "version": "3.11.3"
  }
 },
 "nbformat": 4,
 "nbformat_minor": 5
}
