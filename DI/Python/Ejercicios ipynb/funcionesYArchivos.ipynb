{
 "cells": [
  {
   "cell_type": "markdown",
   "id": "3bec7906-b1ce-46d2-b99c-82fee1cb27a2",
   "metadata": {},
   "source": [
    "## <b>Funciones y archivos</b>"
   ]
  },
  {
   "cell_type": "raw",
   "id": "9a42178a-fb89-4502-bcf8-1cacef290c83",
   "metadata": {},
   "source": [
    "1. Codifica un programa “Loterías” que conteña un\n",
    "menú que acceda as seguintes funcións:\n",
    "-> Un xerador de apostas da primitiva (6 números entre 1 e 49\n",
    "máis o complementario entre 1 e o 9).\n",
    "-> Xerador de Euromillóns (5 números entre 1 e 50 máis dous\n",
    "números “estrela” entre 1 e 9).\n",
    "-> Un xerador de apostas da quiniela de fútbol, 15 resultados\n",
    "entre 1,X,2.\n",
    "-> Un xerador de Lotería nacional. Un número entre o 00000 e o\n",
    "99999.\n",
    "Valorarase que o menú sexa outra función."
   ]
  },
  {
   "cell_type": "code",
   "execution_count": 2,
   "id": "66724df4-7d6a-4c6b-b7b7-db30ece7c70b",
   "metadata": {
    "tags": []
   },
   "outputs": [
    {
     "name": "stdin",
     "output_type": "stream",
     "text": [
      "Decide que opción deseas: \n",
      " 1->Primitiva \n",
      " 2->Euromillón \n",
      " 3->Quiniela \n",
      " 4->Loteria Nacional \n",
      " 5->Cerrar \n",
      " 1\n"
     ]
    },
    {
     "name": "stdout",
     "output_type": "stream",
     "text": [
      "[22, 5, 26, 16, 48, 39]\n",
      "\n"
     ]
    },
    {
     "name": "stdin",
     "output_type": "stream",
     "text": [
      "Decide que opción deseas: \n",
      " 1->Primitiva \n",
      " 2->Euromillón \n",
      " 3->Quiniela \n",
      " 4->Loteria Nacional \n",
      " 5->Cerrar \n",
      " 2\n"
     ]
    },
    {
     "name": "stdout",
     "output_type": "stream",
     "text": [
      "[22, 5, 26, 16, 48, 39]\n",
      "[23, 38, 20, 14, 24]\n",
      "\n"
     ]
    },
    {
     "name": "stdin",
     "output_type": "stream",
     "text": [
      "Decide que opción deseas: \n",
      " 1->Primitiva \n",
      " 2->Euromillón \n",
      " 3->Quiniela \n",
      " 4->Loteria Nacional \n",
      " 5->Cerrar \n",
      " 3\n"
     ]
    },
    {
     "name": "stdout",
     "output_type": "stream",
     "text": [
      "[22, 5, 26, 16, 48, 39]\n",
      "[23, 38, 20, 14, 24]\n",
      "['1', '1', '1', 'X', '1', '1', 'X', 'X', '1', 'X', '2', 'X', '2', 'X', '1']\n",
      "\n"
     ]
    },
    {
     "name": "stdin",
     "output_type": "stream",
     "text": [
      "Decide que opción deseas: \n",
      " 1->Primitiva \n",
      " 2->Euromillón \n",
      " 3->Quiniela \n",
      " 4->Loteria Nacional \n",
      " 5->Cerrar \n",
      " 4\n"
     ]
    },
    {
     "name": "stdout",
     "output_type": "stream",
     "text": [
      "[22, 5, 26, 16, 48, 39]\n",
      "[23, 38, 20, 14, 24]\n",
      "['1', '1', '1', 'X', '1', '1', 'X', 'X', '1', 'X', '2', 'X', '2', 'X', '1']\n",
      "96020\n",
      "\n"
     ]
    },
    {
     "name": "stdin",
     "output_type": "stream",
     "text": [
      "Decide que opción deseas: \n",
      " 1->Primitiva \n",
      " 2->Euromillón \n",
      " 3->Quiniela \n",
      " 4->Loteria Nacional \n",
      " 5->Cerrar \n",
      " 5\n"
     ]
    }
   ],
   "source": [
    "import random\n",
    "\n",
    "\n",
    "\n",
    "def menu():\n",
    "    opcion=int(input(\"Decide que opción deseas: \\n 1->Primitiva \\n 2->Euromillón \\n 3->Quiniela \\n 4->Loteria Nacional \\n 5->Cerrar \\n\"))\n",
    "    if opcion==1:\n",
    "        primitiva()\n",
    "    elif opcion==2:\n",
    "        euromillon()\n",
    "    elif opcion==3:\n",
    "        quiniela()\n",
    "    elif opcion==4:\n",
    "        loteria()\n",
    "    elif opcion==5:\n",
    "        exit\n",
    "    else:\n",
    "        print(\"Eso non é unha opción válida\")\n",
    "        menu()\n",
    "    \n",
    "    \n",
    "    \n",
    "def primitiva():\n",
    "    file=\"datos.txt\"\n",
    "    list=[]\n",
    "    for i in range(6):\n",
    "        n=random.randint(1,49)\n",
    "        comp=random.randint(1,9)\n",
    "        while n in list:\n",
    "            n=random.randint(1,49)\n",
    "            \n",
    "        else:\n",
    "            list.append(n)\n",
    "    with open(file,\"a\") as archivo:\n",
    "        archivo.write(str(list)+\"\\n\")\n",
    "    with open(file,\"r\") as archivo:\n",
    "        print(archivo.read())\n",
    "    menu()\n",
    "\n",
    "def euromillon():\n",
    "    file=\"datos.txt\"\n",
    "    list=[]\n",
    "    numEstrella=[]\n",
    "    for i in range(5):\n",
    "        n=random.randint(1,50)\n",
    "        while n in list:\n",
    "            n=random.randint(1,50)\n",
    "        else:\n",
    "            list.append(n)\n",
    "    for i in range(2):\n",
    "        n=random.randint(1,50)\n",
    "        while n in numEstrella:\n",
    "            n=random.randint(1,50)\n",
    "        else:\n",
    "            numEstrella.append(n)\n",
    "    with open(file,\"a\") as archivo:\n",
    "        archivo.write(str(list)+\"\\n\")\n",
    "    with open(file,\"r\") as archivo:\n",
    "        print(archivo.read())\n",
    "    menu()\n",
    "\n",
    "def quiniela():\n",
    "    file=\"datos.txt\"\n",
    "    list=[]\n",
    "    resultados=[\"1\",\"X\",\"2\"]\n",
    "\n",
    "    for i in range(15):\n",
    "        n=random.randint(0,2)\n",
    "        list.append(resultados[n])\n",
    "    with open(file,\"a\") as archivo:\n",
    "        archivo.write(str(list)+\"\\n\")\n",
    "    with open(file,\"r\") as archivo:\n",
    "        print(archivo.read())\n",
    "    menu()\n",
    "\n",
    "def loteria():\n",
    "    file=\"datos.txt\"\n",
    "    num=random.randint(0,99999)\n",
    "    num=str(num).zfill(5)\n",
    "    with open(file,\"a\") as archivo:\n",
    "        archivo.write(str(num)+\"\\n\")\n",
    "    with open(file,\"r\") as archivo:\n",
    "        print(archivo.read())\n",
    "    menu()\n",
    "\n",
    "menu()\n"
   ]
  },
  {
   "cell_type": "markdown",
   "id": "f42f11e9-62a1-426a-8a77-6428b263645d",
   "metadata": {},
   "source": [
    "---"
   ]
  },
  {
   "cell_type": "raw",
   "id": "bbe9c7bf-64b9-4e01-a713-02ba93edadf4",
   "metadata": {},
   "source": [
    "2. Codifica un programa que pida o nome dun arquivo con extensión\n",
    ".txt e a continuación o cree con ese nome.\n",
    "Posteriormente pediranos escribir un texto por teclado, que\n",
    "deberá gardarse no arquivo creado e o pecharemos.\n",
    "O paso seguinte será abrir o arquivo e contar todas as vocais que\n",
    "hai no arquivo e lendo o contido arquivo mostralo por pantalla,\n",
    "así como o número de vocais e pechamos o arquivo.\n",
    "O último paso será escribir outra frase engadindo ao contido\n",
    "anterior pero nun liña posterior.\n",
    "Valorarase o uso de funcións e un menú que se repita ata unha\n",
    "opción Salir ou similar."
   ]
  },
  {
   "cell_type": "code",
   "execution_count": 1,
   "id": "f7851603-3833-401f-adc9-9ebf1537727d",
   "metadata": {
    "tags": []
   },
   "outputs": [
    {
     "name": "stdin",
     "output_type": "stream",
     "text": [
      "Escribe o nome do arquivo (Sen a súa extensión): hola\n",
      "Que queres facer?: \n",
      " 1->Contar as vogais\n",
      " 2->Engadir unha frase\n",
      " 3->Cerrar o programa\n",
      " 2\n",
      "Escribe a mensaxe que desexas engadir:  como estamos?\n",
      "Que queres facer?: \n",
      " 1->Contar as vogais\n",
      " 2->Engadir unha frase\n",
      " 3->Cerrar o programa\n",
      " 1\n"
     ]
    },
    {
     "name": "stdout",
     "output_type": "stream",
     "text": [
      "\n",
      "O arquivo ten 5 vocais.\n"
     ]
    },
    {
     "name": "stdin",
     "output_type": "stream",
     "text": [
      "Que queres facer?: \n",
      " 1->Contar as vogais\n",
      " 2->Engadir unha frase\n",
      " 3->Cerrar o programa\n",
      " 3\n"
     ]
    }
   ],
   "source": [
    "nomeFicheiro=input(\"Escribe o nome do arquivo (Sen a súa extensión):\")\n",
    "nomeFicheiro=nomeFicheiro+\".txt\"\n",
    "\n",
    "def menu():\n",
    "    opcion=int(input(\"Que queres facer?: \\n 1->Contar as vogais\\n 2->Engadir unha frase\\n 3->Cerrar o programa\\n\"))\n",
    "    if opcion==1:\n",
    "        contarVogais()\n",
    "    elif opcion==2:\n",
    "        engadirLina()\n",
    "    elif opcion==3:\n",
    "        exit\n",
    "    else:\n",
    "        print(\"Non é unha opción válida\")\n",
    "        menu()\n",
    "\n",
    "\n",
    "\n",
    "def contarVogais():\n",
    "    with open(nomeFicheiro,\"r\")as archivo:\n",
    "        contador=0\n",
    "        for i,letra in enumerate(archivo.read()):\n",
    "            if letra=='a' or letra=='e' or letra=='i' or letra=='o' or letra=='u':\n",
    "                contador+=1\n",
    "        print(archivo.read())\n",
    "    print(f\"O arquivo ten {contador} vocais.\")\n",
    "    menu()\n",
    "\n",
    "def engadirLina():\n",
    "    with open(nomeFicheiro,\"a\") as archivo:\n",
    "        texto=input(\"Escribe a mensaxe que desexas engadir: \")\n",
    "        archivo.write(texto.lower()+\"\\n\")\n",
    "    menu()\n",
    "\n",
    "menu()"
   ]
  },
  {
   "cell_type": "markdown",
   "id": "52904889-abb0-443d-adf1-67762ae973ba",
   "metadata": {},
   "source": [
    "---"
   ]
  },
  {
   "cell_type": "raw",
   "id": "e4bc6657-3456-4d9b-85cf-51c08b4b1e11",
   "metadata": {},
   "source": [
    "3. Codifica un programa con dúas funcións. A primeira\n",
    "que pregunte o nome dun produto, prezo e iva ata\n",
    "que no nome do produto poñamos fin. Dita función\n",
    "chamará unha segunda función que pasándolle o\n",
    "prezo d produto e iva a calcular devolva o prezo final.\n",
    "A primeira función almacenará os datos nun\n",
    "dicionario da forma seguinte:\n",
    "Lista_compra: {‘Producto’\n",
    ": prezo, ....}\n",
    "Mostrará por pantalla ao final a lista da compra.\n",
    "A listas deberán gardarse nun arquivo."
   ]
  },
  {
   "cell_type": "code",
   "execution_count": 3,
   "id": "ba21c08a-10c6-48d1-a0d4-0545e97c119d",
   "metadata": {
    "tags": []
   },
   "outputs": [
    {
     "name": "stdin",
     "output_type": "stream",
     "text": [
      "Introduce o nome do produto:\n",
      " Casa\n",
      "Introduce o prezo do produto: 120000\n",
      "Introduce o IVA que queres por: 21\n",
      "Introduce o nome do produto:\n",
      " Chalet\n",
      "Introduce o prezo do produto: 300000\n",
      "Introduce o IVA que queres por: 12\n",
      "Introduce o nome do produto:\n",
      " Piso\n",
      "Introduce o prezo do produto: 175000\n",
      "Introduce o IVA que queres por: 8\n",
      "Introduce o nome do produto:\n",
      " fin\n"
     ]
    },
    {
     "name": "stdout",
     "output_type": "stream",
     "text": [
      "{'Casa': 145200.0, 'Chalet': 336000.0, 'Piso': 189000.0}\n"
     ]
    }
   ],
   "source": [
    "dic={}\n",
    "def crearProduto():\n",
    "    produto=input(\"Introduce o nome do produto:\\n\")\n",
    "    if produto.lower()==\"fin\":\n",
    "        print(dic)\n",
    "        exit\n",
    "    else:\n",
    "        prezo=float(input(\"Introduce o prezo do produto:\"))\n",
    "        iva=float(input(\"Introduce o IVA que queres por:\"))\n",
    "        prezoTotal=calcular(prezo,iva)\n",
    "        dic[produto]=prezoTotal\n",
    "        file=\"datos.txt\"\n",
    "        with open(file,\"w\") as archivo:\n",
    "            archivo.write(str(dic))\n",
    "        crearProduto()\n",
    "    \n",
    "\n",
    "def calcular(prezo,iva):\n",
    "    prezoTotal=prezo+((prezo*iva)/100)\n",
    "    return prezoTotal\n",
    "\n",
    "crearProduto()"
   ]
  },
  {
   "cell_type": "markdown",
   "id": "975c220d-5c13-49d0-83c9-0bbd516ae893",
   "metadata": {},
   "source": [
    "---"
   ]
  },
  {
   "cell_type": "code",
   "execution_count": null,
   "id": "f4658eb9-7925-4126-8bb1-8e9315d3cd12",
   "metadata": {},
   "outputs": [],
   "source": []
  }
 ],
 "metadata": {
  "kernelspec": {
   "display_name": "Python 3 (ipykernel)",
   "language": "python",
   "name": "python3"
  },
  "language_info": {
   "codemirror_mode": {
    "name": "ipython",
    "version": 3
   },
   "file_extension": ".py",
   "mimetype": "text/x-python",
   "name": "python",
   "nbconvert_exporter": "python",
   "pygments_lexer": "ipython3",
   "version": "3.11.3"
  }
 },
 "nbformat": 4,
 "nbformat_minor": 5
}
