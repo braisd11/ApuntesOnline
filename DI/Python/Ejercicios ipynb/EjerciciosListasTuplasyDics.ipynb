{
 "cells": [
  {
   "cell_type": "markdown",
   "id": "c9764c62-2b91-4b6e-aa99-e6786a12b5fa",
   "metadata": {},
   "source": [
    "## <b>Listas, Tuplas y Diccionarios</b>"
   ]
  },
  {
   "cell_type": "raw",
   "id": "aa587e75-245d-4a61-b3bf-0c3c97069fa3",
   "metadata": {},
   "source": [
    "1. Crea unha lista de N elementos, dato que se\n",
    "pide por teclado, e a continuación enchese de\n",
    "números enteiros aleatorios entre 1 e 10.\n",
    "Posteriormente mostra a lista e o número que\n",
    "máis se repite."
   ]
  },
  {
   "cell_type": "code",
   "execution_count": 1,
   "id": "b80f3b71-2f39-4d8b-9cae-896587d12049",
   "metadata": {
    "tags": []
   },
   "outputs": [
    {
     "name": "stdin",
     "output_type": "stream",
     "text": [
      "Cantos elementos queres?:  20\n"
     ]
    },
    {
     "name": "stdout",
     "output_type": "stream",
     "text": [
      "[5, 10, 9, 9, 3, 3, 2, 3, 5, 7, 9, 7, 8, 7, 7, 10, 3, 8, 7, 1]\n",
      "O elemento máis repetido é:  7\n"
     ]
    }
   ],
   "source": [
    "import random\n",
    "from collections import Counter\n",
    "\n",
    "n= int(input(\"Cantos elementos queres?: \"))\n",
    "\n",
    "l=[]\n",
    "\n",
    "for i in range (n):\n",
    "    \n",
    "    l.append(random.randint(1,10))\n",
    "\n",
    "print(str(l))\n",
    "\n",
    "c=Counter(l)\n",
    "print(\"O elemento máis repetido é: \",max(c,key=c.get))"
   ]
  },
  {
   "cell_type": "markdown",
   "id": "98c5d526-5e63-41d7-a74a-95cba8c128fe",
   "metadata": {},
   "source": [
    "---"
   ]
  },
  {
   "cell_type": "raw",
   "id": "b852a8c9-c9c4-4f19-bf34-9d18cf9e0ed8",
   "metadata": {},
   "source": [
    "2.Almacenar en dúas tuplas os nomes de 8\n",
    "empregados ou empregadas dunha empresa e dos\n",
    "seus salarios, respectivamente. A continuación:\n",
    "-> Mostrar a tupla dos nomes e a tupla dos\n",
    "salarios.\n",
    "-> Mostrar o nome dos empregados con maior e\n",
    "do menor salario."
   ]
  },
  {
   "cell_type": "code",
   "execution_count": 2,
   "id": "233489be-fc77-47c6-a9cd-b161cbfcce14",
   "metadata": {
    "tags": []
   },
   "outputs": [
    {
     "name": "stdout",
     "output_type": "stream",
     "text": [
      "['Antonio', 'Pablo', 'Carlos', 'Jaime', 'Sara', 'Laura', 'Paula', 'Ana']\n",
      "[1500, 1200, 2000, 3400, 600, 1000, 1350, 1280]\n",
      "Antonio 1500\n",
      "Pablo 1200\n",
      "Carlos 2000\n",
      "Jaime 3400\n",
      "Sara 600\n",
      "Laura 1000\n",
      "Paula 1350\n",
      "Ana 1280\n",
      "El de mayor salario es  Jaime  y cobra  3400\n",
      "El de menor salario es  Sara  y cobra  600\n"
     ]
    }
   ],
   "source": [
    "empleados=[\"Antonio\",\"Pablo\",\"Carlos\",\"Jaime\",\"Sara\",\"Laura\",\"Paula\",\"Ana\"]\n",
    "salarios=[1500,1200,2000,3400,600,1000,1350,1280]\n",
    "\n",
    "print(empleados)\n",
    "print(salarios)\n",
    "\n",
    "for i in range(len(empleados)):\n",
    "    print(empleados[i], salarios[i])\n",
    "\n",
    "mayor=0\n",
    "pos=0\n",
    "\n",
    "for i,salario in enumerate(salarios):\n",
    "    if salario>mayor:\n",
    "        mayor=salario\n",
    "        pos=i\n",
    "\n",
    "menor=salarios[0]\n",
    "pos2=0\n",
    "\n",
    "for i,salario in enumerate(salarios):\n",
    "    if salario<menor:\n",
    "        menor=salario\n",
    "        pos2=i\n",
    "\n",
    "print(\"El de mayor salario es \",empleados[pos],\" y cobra \",mayor)\n",
    "\n",
    "print(\"El de menor salario es \",empleados[pos2],\" y cobra \",menor)\n"
   ]
  },
  {
   "cell_type": "markdown",
   "id": "54424940-4ba3-4582-a5a6-ebe06655b529",
   "metadata": {},
   "source": [
    "---"
   ]
  },
  {
   "cell_type": "raw",
   "id": "9f32c45f-e6c7-4387-8e7d-811009ccceb9",
   "metadata": {},
   "source": [
    "3. Codifica unha función que reciba unha cantidade de N\n",
    "iteracións solicitadas por teclado onde cada una\n",
    "representen a suma dunha tirada de 2 dados.\n",
    "A continuación, grava os resultados nun dicionario\n",
    "da forma o seguinte:\n",
    "Resultado = {‘Dos’: 3, ‘Tres’: 1, …,’Doce’:3}\n",
    "Onde 3, 1 e 4 representen o número de veces que sae\n",
    "cada valor. Mostrar por pantalla."
   ]
  },
  {
   "cell_type": "code",
   "execution_count": 3,
   "id": "766e05df-971e-41af-a654-42313b2ac8dd",
   "metadata": {
    "tags": []
   },
   "outputs": [
    {
     "name": "stdin",
     "output_type": "stream",
     "text": [
      "Escribe cantas veces queres que se lancen os dados:  3\n"
     ]
    },
    {
     "name": "stdout",
     "output_type": "stream",
     "text": [
      "5\n",
      "8\n",
      "5\n",
      "{2: 0, 3: 0, 4: 0, 5: 2, 6: 0, 7: 0, 8: 1, 9: 0, 10: 0, 11: 0, 12: 0}\n"
     ]
    }
   ],
   "source": [
    "import random\n",
    "\n",
    "dados={2:0,3:0,4:0,5:0,6:0,7:0,8:0,9:0,10:0,11:0,12:0}\n",
    "\n",
    "lanzamientos=int(input(\"Escribe cantas veces queres que se lancen os dados: \"))\n",
    "\n",
    "for i in range(lanzamientos):\n",
    "    numDado1=random.randint(1,6)\n",
    "    numDado2=random.randint(1,6)\n",
    "    jugada=numDado1+numDado2\n",
    "    dados[jugada]+=1\n",
    "    print(jugada)\n",
    "print(dados)"
   ]
  },
  {
   "cell_type": "markdown",
   "id": "70a65681-bf7c-48bc-8632-359a07d54acb",
   "metadata": {},
   "source": [
    "---"
   ]
  },
  {
   "cell_type": "raw",
   "id": "cc6b8536-0db4-4045-9cdf-cdf61520f5a0",
   "metadata": {},
   "source": [
    "4. Constrúe unha dicionario que almacene\n",
    "as temperaturas das cidades galegas de\n",
    "Vigo, A Coruña, Ourense, Pontevedra,\n",
    "Lugo e Ferrol.\n",
    "A continuación, solicita por teclado una\n",
    "cidad e modificar o seu valor de\n",
    "temperatura"
   ]
  },
  {
   "cell_type": "code",
   "execution_count": 4,
   "id": "13d3ecaa-52fe-4b9b-b786-01ad81d84d82",
   "metadata": {
    "tags": []
   },
   "outputs": [
    {
     "name": "stdout",
     "output_type": "stream",
     "text": [
      "{'vigo': 0.0, 'coruña': 0.0, 'ourense': 0.0, 'pontevedra': 0.0, 'lugo': 0.0, 'ferrol': 0.0}\n"
     ]
    },
    {
     "name": "stdin",
     "output_type": "stream",
     "text": [
      "Introduce o nome da cidade: coruña\n",
      "Introduce a temperatura que ten: 15\n"
     ]
    },
    {
     "name": "stdout",
     "output_type": "stream",
     "text": [
      "{'vigo': 0.0, 'coruña': 15.0, 'ourense': 0.0, 'pontevedra': 0.0, 'lugo': 0.0, 'ferrol': 0.0}\n"
     ]
    }
   ],
   "source": [
    "dict={\"vigo\":0.0,\"coruña\":0.0,\"ourense\":0.0,\"pontevedra\":0.0,\"lugo\":0.0,\"ferrol\":0.0}\n",
    "print(dict)\n",
    "cidade=input(\"Introduce o nome da cidade:\")\n",
    "cidade.lower()\n",
    "temperatura=float(input(\"Introduce a temperatura que ten:\"))\n",
    "\n",
    "dict[cidade]=temperatura\n",
    "print(dict)"
   ]
  },
  {
   "cell_type": "markdown",
   "id": "cf50aada-b1d8-45cd-8a40-19bf73e97f20",
   "metadata": {},
   "source": [
    "---"
   ]
  },
  {
   "cell_type": "code",
   "execution_count": null,
   "id": "bcb1cec9-173e-4958-8f5d-235ad5f9d17d",
   "metadata": {},
   "outputs": [],
   "source": []
  }
 ],
 "metadata": {
  "kernelspec": {
   "display_name": "Python 3 (ipykernel)",
   "language": "python",
   "name": "python3"
  },
  "language_info": {
   "codemirror_mode": {
    "name": "ipython",
    "version": 3
   },
   "file_extension": ".py",
   "mimetype": "text/x-python",
   "name": "python",
   "nbconvert_exporter": "python",
   "pygments_lexer": "ipython3",
   "version": "3.11.3"
  }
 },
 "nbformat": 4,
 "nbformat_minor": 5
}
