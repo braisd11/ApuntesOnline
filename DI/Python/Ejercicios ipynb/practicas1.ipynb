{
 "cells": [
  {
   "cell_type": "markdown",
   "id": "493bc2ab-8b8a-4127-a63f-2b0a619c03a0",
   "metadata": {},
   "source": [
    "## <b>Bloque 1 de Ejercicios Python</b>"
   ]
  },
  {
   "cell_type": "raw",
   "id": "7794252a-84f2-4137-868b-0c2837935acf",
   "metadata": {
    "tags": []
   },
   "source": [
    "1. Escribir un programa que almacene a\n",
    "cadea ¡Hola Mundo! nunha variable e logo\n",
    "mostre por pantalla o contido da variable."
   ]
  },
  {
   "cell_type": "code",
   "execution_count": 2,
   "id": "db87f98b-ccc8-4646-8bac-e601601c8ad8",
   "metadata": {
    "tags": []
   },
   "outputs": [
    {
     "name": "stdout",
     "output_type": "stream",
     "text": [
      "¡Hola Mundo!\n"
     ]
    }
   ],
   "source": [
    "saludo=\"¡Hola Mundo!\"\n",
    "print(saludo)"
   ]
  },
  {
   "cell_type": "markdown",
   "id": "5b7f0dd7-3115-4695-88eb-7c95b06c4b9d",
   "metadata": {},
   "source": [
    "---"
   ]
  },
  {
   "cell_type": "raw",
   "id": "a5c17e97-20d2-4fd5-b8af-504e890c959f",
   "metadata": {},
   "source": [
    "2. Escribir un programa que pregunte ao usuario polo\n",
    "número de horas traballadas e o coste por hora en € con\n",
    "dous decimais. Despois debe mostrar por pantalla a paga\n",
    "que lle corresponde na mesma condición."
   ]
  },
  {
   "cell_type": "code",
   "execution_count": 3,
   "id": "104c27ab-8c75-4912-9e30-a7acee53fb6b",
   "metadata": {
    "tags": []
   },
   "outputs": [
    {
     "name": "stdin",
     "output_type": "stream",
     "text": [
      "Introduce numero de horas: 10\n",
      "Introduce precio/hora: 10\n"
     ]
    },
    {
     "name": "stdout",
     "output_type": "stream",
     "text": [
      "El resultado es:100.00\n"
     ]
    }
   ],
   "source": [
    "numHoras=int(input(\"Introduce numero de horas:\"))\n",
    "costeHora=float(input(\"Introduce precio/hora:\"))\n",
    "resultado=float(numHoras)*costeHora\n",
    "print(f\"El resultado es:{resultado:.2f}\")"
   ]
  },
  {
   "cell_type": "markdown",
   "id": "32278310-8560-42de-8f08-7153d75b6e4a",
   "metadata": {},
   "source": [
    "---"
   ]
  },
  {
   "cell_type": "raw",
   "id": "90c7cc77-4e3f-4e47-a97b-54a06237bd7c",
   "metadata": {},
   "source": [
    "3.1. Dados unha cifra en segundos fai a\n",
    "transformación en horas, minutos e\n",
    "segundos. Repite o exercicio de\n",
    "forma inversa, dada unha cifra en\n",
    "horas, minutos e segundos,\n",
    "transforma en segundos. "
   ]
  },
  {
   "cell_type": "code",
   "execution_count": 5,
   "id": "d8faf35d-b543-4fcf-a876-7a7db847b74e",
   "metadata": {
    "tags": []
   },
   "outputs": [
    {
     "name": "stdin",
     "output_type": "stream",
     "text": [
      "Introduce num segundos: 1200\n"
     ]
    },
    {
     "name": "stdout",
     "output_type": "stream",
     "text": [
      "1200 segundos son 0 hora(s), 20 minutos y 0 segundos.\n"
     ]
    }
   ],
   "source": [
    "segundosPedidos=int(input(\"Introduce num segundos:\"))\n",
    "\n",
    "numHoras=segundosPedidos // 3600\n",
    "numSegundos=segundosPedidos % 3600\n",
    "numMinutos=numSegundos // 60\n",
    "numSegundosRestantes=numSegundos % 60\n",
    "resultado=f\"{segundosPedidos} segundos son {numHoras} hora(s), {numMinutos} minutos y {numSegundosRestantes} segundos.\"\n",
    "print(resultado)"
   ]
  },
  {
   "cell_type": "markdown",
   "id": "1ba4f7d5-e5a2-4b61-b2b3-a092d485050c",
   "metadata": {},
   "source": [
    "---"
   ]
  },
  {
   "cell_type": "raw",
   "id": "1b3d42f5-73a3-4758-ac9f-a6bb3aac4cea",
   "metadata": {},
   "source": [
    "3.2. Dados unha cifra en segundos fai a\n",
    "transformación en horas, minutos e\n",
    "segundos. Repite o exercicio de\n",
    "forma inversa, dada unha cifra en\n",
    "horas, minutos e segundos,\n",
    "transforma en segundos. "
   ]
  },
  {
   "cell_type": "code",
   "execution_count": 6,
   "id": "91281088-c433-4d7b-8c06-8c1b36ee75ad",
   "metadata": {
    "tags": []
   },
   "outputs": [
    {
     "name": "stdin",
     "output_type": "stream",
     "text": [
      "Introduce num horas:  20\n",
      "Introduce num minutos:  70\n",
      "Introduce num segundos:  10\n"
     ]
    },
    {
     "name": "stdout",
     "output_type": "stream",
     "text": [
      "20 horas, 70 minutos y 10 segundos son 76210 segundos\n"
     ]
    }
   ],
   "source": [
    "horas=int(input(\"Introduce num horas: \"))\n",
    "minutos=int(input(\"Introduce num minutos: \"))\n",
    "segundos=int(input(\"Introduce num segundos: \"))\n",
    "\n",
    "segundosHoras=horas*3600\n",
    "\n",
    "segundosMinutos=minutos*60\n",
    "\n",
    "print(f\"{horas} horas, {minutos} minutos y {segundos} segundos son {segundosHoras+segundosMinutos+segundos} segundos\")"
   ]
  },
  {
   "cell_type": "markdown",
   "id": "f6b35f9c-bb73-4b88-87d3-cc86526ad3f4",
   "metadata": {},
   "source": [
    "---"
   ]
  },
  {
   "cell_type": "raw",
   "id": "a8955a12-5563-4ea5-bfd0-c182d1b02522",
   "metadata": {},
   "source": [
    "4. Escribir un programa que lle pida ao usuario seu peso (en\n",
    "kg) e estatura (en metros), calcule o índice de masa\n",
    "corporal e o almacene nunha variable <imc> mostrando\n",
    "por pantalla a frase: Teu índice de masa corporal é <imc>,\n",
    "con dos decimales."
   ]
  },
  {
   "cell_type": "code",
   "execution_count": 8,
   "id": "808b39b2-126f-4e04-8ac1-f54228337817",
   "metadata": {
    "tags": []
   },
   "outputs": [
    {
     "name": "stdin",
     "output_type": "stream",
     "text": [
      "Introduce o teu peso (kg):  63\n",
      "Introduce a tua estatura (cm):  1.73\n"
     ]
    },
    {
     "name": "stdout",
     "output_type": "stream",
     "text": [
      "O teu índice de masa corporal é: 21.05\n"
     ]
    }
   ],
   "source": [
    "peso=float(input(\"Introduce o teu peso (kg): \"))\n",
    "estatura=float(input(\"Introduce a tua estatura (cm): \"))\n",
    "\n",
    "imc=peso/(estatura**2)\n",
    "\n",
    "print(f\"O teu índice de masa corporal é: {imc:.2f}\")"
   ]
  },
  {
   "cell_type": "markdown",
   "id": "851a0216-3428-49ad-b102-3d06a09a92db",
   "metadata": {},
   "source": [
    "---"
   ]
  },
  {
   "cell_type": "raw",
   "id": "4d0ac8db-3a34-4668-bf27-2ed5e7ea1211",
   "metadata": {},
   "source": [
    "5. Escribe un programa que solicite la fecha de\n",
    "nacimiento de un usuario y calcule su edad actual."
   ]
  },
  {
   "cell_type": "code",
   "execution_count": 9,
   "id": "47e8ead0-6e07-43b0-b086-f3923e80227a",
   "metadata": {
    "tags": []
   },
   "outputs": [
    {
     "name": "stdin",
     "output_type": "stream",
     "text": [
      "Introduce día de nacimiento:  17\n",
      "Introduce mes de nacimiento:  04\n",
      "Introduce anho de nacimiento:  1997\n"
     ]
    },
    {
     "name": "stdout",
     "output_type": "stream",
     "text": [
      "Tienes 26 años.\n"
     ]
    }
   ],
   "source": [
    "from datetime import datetime\n",
    "\n",
    "diaNacimiento=int(input(\"Introduce día de nacimiento: \"))\n",
    "mesNacimiento=int(input(\"Introduce mes de nacimiento: \"))\n",
    "anhoNacimiento=int(input(\"Introduce anho de nacimiento: \"))\n",
    "\n",
    "edad=0\n",
    "\n",
    "fechaActual=datetime.now()\n",
    "\n",
    "anhoActual=fechaActual.year\n",
    "mesActual=fechaActual.month\n",
    "diaActual=fechaActual.day\n",
    "\n",
    "if mesActual >= mesNacimiento:\n",
    "    if diaActual >= diaNacimiento:\n",
    "        edad=anhoActual-anhoNacimiento\n",
    "    else: \n",
    "        edad=(anhoActual-anhoNacimiento)-1\n",
    "\n",
    "else:\n",
    "    edad=(anhoActual-anhoNacimiento)-1\n",
    "\n",
    "print(f\"Tienes {edad} años.\")"
   ]
  },
  {
   "cell_type": "markdown",
   "id": "1657f8d9-682c-44df-80cb-736d14dfab92",
   "metadata": {},
   "source": [
    "---"
   ]
  },
  {
   "cell_type": "raw",
   "id": "e31ed610-bf95-4e35-a8f8-2d4bc1a92bb7",
   "metadata": {},
   "source": [
    "6. Dado el radio de una circunferencia calcula su perímetro y\n",
    "área. Usad función math para usar pi"
   ]
  },
  {
   "cell_type": "code",
   "execution_count": 10,
   "id": "96f9a541-cbb2-4f7e-a2a8-4ef52939245e",
   "metadata": {
    "tags": []
   },
   "outputs": [
    {
     "name": "stdin",
     "output_type": "stream",
     "text": [
      "Introduce o radio da circunferencia:  20\n"
     ]
    },
    {
     "name": "stdout",
     "output_type": "stream",
     "text": [
      "Unha circunferencia con radio 20.0 ten un perímetro de 125.66 e un área de 1256.64\n"
     ]
    }
   ],
   "source": [
    "import math\n",
    "\n",
    "radio=float(input(\"Introduce o radio da circunferencia: \"))\n",
    "\n",
    "area=math.pi*(radio**2)\n",
    "perimetro=2*math.pi*radio\n",
    "\n",
    "print(f\"Unha circunferencia con radio {radio} ten un perímetro de {perimetro:.2f} e un área de {area:.2f}\")"
   ]
  },
  {
   "cell_type": "markdown",
   "id": "567fa52f-eb23-425d-9ff3-27d08f195fdd",
   "metadata": {},
   "source": [
    "---"
   ]
  },
  {
   "cell_type": "raw",
   "id": "d0d52489-14f2-4aed-bbc6-f25ea916f43b",
   "metadata": {},
   "source": [
    "7. Introduzca una palabra de más de 9 letras por teclado e\n",
    "imprima: \n",
    "las tres primeras letras\n",
    "las tres últimas letras\n",
    "las situadas entre la 4º y 7º posición"
   ]
  },
  {
   "cell_type": "code",
   "execution_count": 15,
   "id": "cc56106d-3a1e-4476-8f5b-8bf2a8856c3d",
   "metadata": {
    "tags": []
   },
   "outputs": [
    {
     "name": "stdin",
     "output_type": "stream",
     "text": [
      "Introduce unha palabra de 9 letras:\n",
      " abecedario\n"
     ]
    },
    {
     "name": "stdout",
     "output_type": "stream",
     "text": [
      "Tres primeiras letras: abe  \n",
      "Tres últimas letras: rio \n",
      "Letras entre la cuarta y la séptima: ed\n"
     ]
    }
   ],
   "source": [
    "palabra=\".\"\n",
    "while len(palabra) <= 9:\n",
    "    palabra=input(\"Introduce unha palabra de 9 letras:\\n\")\n",
    "\n",
    "tresPrimeiras=palabra[:3]\n",
    "tresUltimas=palabra[-3:]\n",
    "cuartaPosicionaSeptima=palabra[4:6]\n",
    "\n",
    "\n",
    "print(f\"\"\"Tres primeiras letras: {tresPrimeiras}  \n",
    "Tres últimas letras: {tresUltimas} \n",
    "Letras entre la cuarta y la séptima: {cuartaPosicionaSeptima}\"\"\")"
   ]
  },
  {
   "cell_type": "markdown",
   "id": "8e18ea93-c89b-44bd-8f31-3902ddc4c1f3",
   "metadata": {},
   "source": [
    "---"
   ]
  },
  {
   "cell_type": "raw",
   "id": "5e3ac8ca-1d2b-4451-97da-f1441777ada8",
   "metadata": {
    "tags": []
   },
   "source": [
    "8. Unha xoguetería ten moito éxito en dous dos seus produtos:\n",
    "pallasos e bonecas. Adoita facer venda por correo e a\n",
    "empresa de loxística cóbralles por peso de cada paquete así\n",
    "que deben calcular o peso dos pallasos e bonecas que sairán\n",
    "en cada paquete a demanda. Cada pallaso pesa 112 g e cada\n",
    "boneca 75 g. Escribir un programa que lea o número de\n",
    "pallasos e bonecas vendidos no último pedido e calcule o\n",
    "peso total en kg do paquete que será enviado e o prezo\n",
    "sendo a tarifa de 3,5 €/kg."
   ]
  },
  {
   "cell_type": "code",
   "execution_count": 18,
   "id": "85bc7c81-a907-422c-b51f-8eb90cdbce9b",
   "metadata": {
    "tags": []
   },
   "outputs": [
    {
     "name": "stdin",
     "output_type": "stream",
     "text": [
      "Número de pallasos vendidos: 10\n",
      "Número de bonecas vendidos: 10\n"
     ]
    },
    {
     "name": "stdout",
     "output_type": "stream",
     "text": [
      "O prezo total é de 6.54€ e o peso de 1.87kg\n"
     ]
    }
   ],
   "source": [
    "pesoBoneca=0.075\n",
    "pesoPallaso=0.112\n",
    "prezo=3.5\n",
    "\n",
    "numPallasos=int(input(\"Número de pallasos vendidos:\"))\n",
    "numBonecas=int(input(\"Número de bonecas vendidos:\"))\n",
    "\n",
    "pesoTotalPallasos=numPallasos*pesoPallaso\n",
    "pesoTotalBonecas=numBonecas*pesoBoneca\n",
    "pesoTotal=pesoTotalBonecas+pesoTotalPallasos\n",
    "\n",
    "prezoPallasos=pesoTotalPallasos*prezo\n",
    "prezoBonecas=pesoTotalBonecas*prezo\n",
    "\n",
    "prezoTotal=prezoBonecas+prezoPallasos\n",
    "\n",
    "print(f\"O prezo total é de {prezoTotal:.2f}€ e o peso de {pesoTotal:.2f}kg\")\n",
    "\n"
   ]
  },
  {
   "cell_type": "markdown",
   "id": "f7dc8fb7-2669-4ed3-9c66-c9103b2ff4ad",
   "metadata": {},
   "source": [
    "---"
   ]
  },
  {
   "cell_type": "code",
   "execution_count": null,
   "id": "b33a0679-c69e-423d-b310-2a2ed3577bc8",
   "metadata": {},
   "outputs": [],
   "source": []
  }
 ],
 "metadata": {
  "kernelspec": {
   "display_name": "Python 3 (ipykernel)",
   "language": "python",
   "name": "python3"
  },
  "language_info": {
   "codemirror_mode": {
    "name": "ipython",
    "version": 3
   },
   "file_extension": ".py",
   "mimetype": "text/x-python",
   "name": "python",
   "nbconvert_exporter": "python",
   "pygments_lexer": "ipython3",
   "version": "3.11.3"
  }
 },
 "nbformat": 4,
 "nbformat_minor": 5
}
